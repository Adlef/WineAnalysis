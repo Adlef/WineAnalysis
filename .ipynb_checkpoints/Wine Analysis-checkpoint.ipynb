{
 "cells": [
  {
   "cell_type": "markdown",
   "metadata": {},
   "source": [
    "# Introduction"
   ]
  },
  {
   "cell_type": "markdown",
   "metadata": {},
   "source": [
    "The project consists in analysing a Wine Reviews dataset from 2017 and coming from Kaggle to answer the following questions:\n",
    "1. What are the countries with the best wine quality in the world?\n",
    "2. What should be the average price for a good wine?\n",
    "3. Which countries show the best ratio quality / price in the world?\n",
    "4.\n",
    "5."
   ]
  },
  {
   "cell_type": "markdown",
   "metadata": {},
   "source": [
    "# Import Libraries"
   ]
  },
  {
   "cell_type": "code",
   "execution_count": 1,
   "metadata": {},
   "outputs": [],
   "source": [
    "import pandas as pd\n",
    "import numpy as np\n",
    "import matplotlib.pyplot as plt\n",
    "%matplotlib inline\n",
    "import seaborn as sns"
   ]
  },
  {
   "cell_type": "markdown",
   "metadata": {},
   "source": [
    "# I. Overview of the data"
   ]
  },
  {
   "cell_type": "code",
   "execution_count": 2,
   "metadata": {},
   "outputs": [
    {
     "data": {
      "text/html": [
       "<div>\n",
       "<style scoped>\n",
       "    .dataframe tbody tr th:only-of-type {\n",
       "        vertical-align: middle;\n",
       "    }\n",
       "\n",
       "    .dataframe tbody tr th {\n",
       "        vertical-align: top;\n",
       "    }\n",
       "\n",
       "    .dataframe thead th {\n",
       "        text-align: right;\n",
       "    }\n",
       "</style>\n",
       "<table border=\"1\" class=\"dataframe\">\n",
       "  <thead>\n",
       "    <tr style=\"text-align: right;\">\n",
       "      <th></th>\n",
       "      <th>Unnamed: 0</th>\n",
       "      <th>country</th>\n",
       "      <th>description</th>\n",
       "      <th>designation</th>\n",
       "      <th>points</th>\n",
       "      <th>price</th>\n",
       "      <th>province</th>\n",
       "      <th>region_1</th>\n",
       "      <th>region_2</th>\n",
       "      <th>taster_name</th>\n",
       "      <th>taster_twitter_handle</th>\n",
       "      <th>title</th>\n",
       "      <th>variety</th>\n",
       "      <th>winery</th>\n",
       "    </tr>\n",
       "  </thead>\n",
       "  <tbody>\n",
       "    <tr>\n",
       "      <th>0</th>\n",
       "      <td>0</td>\n",
       "      <td>Italy</td>\n",
       "      <td>Aromas include tropical fruit, broom, brimston...</td>\n",
       "      <td>Vulkà Bianco</td>\n",
       "      <td>87</td>\n",
       "      <td>NaN</td>\n",
       "      <td>Sicily &amp; Sardinia</td>\n",
       "      <td>Etna</td>\n",
       "      <td>NaN</td>\n",
       "      <td>Kerin O’Keefe</td>\n",
       "      <td>@kerinokeefe</td>\n",
       "      <td>Nicosia 2013 Vulkà Bianco  (Etna)</td>\n",
       "      <td>White Blend</td>\n",
       "      <td>Nicosia</td>\n",
       "    </tr>\n",
       "    <tr>\n",
       "      <th>1</th>\n",
       "      <td>1</td>\n",
       "      <td>Portugal</td>\n",
       "      <td>This is ripe and fruity, a wine that is smooth...</td>\n",
       "      <td>Avidagos</td>\n",
       "      <td>87</td>\n",
       "      <td>15.0</td>\n",
       "      <td>Douro</td>\n",
       "      <td>NaN</td>\n",
       "      <td>NaN</td>\n",
       "      <td>Roger Voss</td>\n",
       "      <td>@vossroger</td>\n",
       "      <td>Quinta dos Avidagos 2011 Avidagos Red (Douro)</td>\n",
       "      <td>Portuguese Red</td>\n",
       "      <td>Quinta dos Avidagos</td>\n",
       "    </tr>\n",
       "    <tr>\n",
       "      <th>2</th>\n",
       "      <td>2</td>\n",
       "      <td>US</td>\n",
       "      <td>Tart and snappy, the flavors of lime flesh and...</td>\n",
       "      <td>NaN</td>\n",
       "      <td>87</td>\n",
       "      <td>14.0</td>\n",
       "      <td>Oregon</td>\n",
       "      <td>Willamette Valley</td>\n",
       "      <td>Willamette Valley</td>\n",
       "      <td>Paul Gregutt</td>\n",
       "      <td>@paulgwine</td>\n",
       "      <td>Rainstorm 2013 Pinot Gris (Willamette Valley)</td>\n",
       "      <td>Pinot Gris</td>\n",
       "      <td>Rainstorm</td>\n",
       "    </tr>\n",
       "    <tr>\n",
       "      <th>3</th>\n",
       "      <td>3</td>\n",
       "      <td>US</td>\n",
       "      <td>Pineapple rind, lemon pith and orange blossom ...</td>\n",
       "      <td>Reserve Late Harvest</td>\n",
       "      <td>87</td>\n",
       "      <td>13.0</td>\n",
       "      <td>Michigan</td>\n",
       "      <td>Lake Michigan Shore</td>\n",
       "      <td>NaN</td>\n",
       "      <td>Alexander Peartree</td>\n",
       "      <td>NaN</td>\n",
       "      <td>St. Julian 2013 Reserve Late Harvest Riesling ...</td>\n",
       "      <td>Riesling</td>\n",
       "      <td>St. Julian</td>\n",
       "    </tr>\n",
       "    <tr>\n",
       "      <th>4</th>\n",
       "      <td>4</td>\n",
       "      <td>US</td>\n",
       "      <td>Much like the regular bottling from 2012, this...</td>\n",
       "      <td>Vintner's Reserve Wild Child Block</td>\n",
       "      <td>87</td>\n",
       "      <td>65.0</td>\n",
       "      <td>Oregon</td>\n",
       "      <td>Willamette Valley</td>\n",
       "      <td>Willamette Valley</td>\n",
       "      <td>Paul Gregutt</td>\n",
       "      <td>@paulgwine</td>\n",
       "      <td>Sweet Cheeks 2012 Vintner's Reserve Wild Child...</td>\n",
       "      <td>Pinot Noir</td>\n",
       "      <td>Sweet Cheeks</td>\n",
       "    </tr>\n",
       "  </tbody>\n",
       "</table>\n",
       "</div>"
      ],
      "text/plain": [
       "   Unnamed: 0   country                                        description  \\\n",
       "0           0     Italy  Aromas include tropical fruit, broom, brimston...   \n",
       "1           1  Portugal  This is ripe and fruity, a wine that is smooth...   \n",
       "2           2        US  Tart and snappy, the flavors of lime flesh and...   \n",
       "3           3        US  Pineapple rind, lemon pith and orange blossom ...   \n",
       "4           4        US  Much like the regular bottling from 2012, this...   \n",
       "\n",
       "                          designation  points  price           province  \\\n",
       "0                        Vulkà Bianco      87    NaN  Sicily & Sardinia   \n",
       "1                            Avidagos      87   15.0              Douro   \n",
       "2                                 NaN      87   14.0             Oregon   \n",
       "3                Reserve Late Harvest      87   13.0           Michigan   \n",
       "4  Vintner's Reserve Wild Child Block      87   65.0             Oregon   \n",
       "\n",
       "              region_1           region_2         taster_name  \\\n",
       "0                 Etna                NaN       Kerin O’Keefe   \n",
       "1                  NaN                NaN          Roger Voss   \n",
       "2    Willamette Valley  Willamette Valley        Paul Gregutt   \n",
       "3  Lake Michigan Shore                NaN  Alexander Peartree   \n",
       "4    Willamette Valley  Willamette Valley        Paul Gregutt   \n",
       "\n",
       "  taster_twitter_handle                                              title  \\\n",
       "0          @kerinokeefe                  Nicosia 2013 Vulkà Bianco  (Etna)   \n",
       "1            @vossroger      Quinta dos Avidagos 2011 Avidagos Red (Douro)   \n",
       "2           @paulgwine       Rainstorm 2013 Pinot Gris (Willamette Valley)   \n",
       "3                   NaN  St. Julian 2013 Reserve Late Harvest Riesling ...   \n",
       "4           @paulgwine   Sweet Cheeks 2012 Vintner's Reserve Wild Child...   \n",
       "\n",
       "          variety               winery  \n",
       "0     White Blend              Nicosia  \n",
       "1  Portuguese Red  Quinta dos Avidagos  \n",
       "2      Pinot Gris            Rainstorm  \n",
       "3        Riesling           St. Julian  \n",
       "4      Pinot Noir         Sweet Cheeks  "
      ]
     },
     "execution_count": 2,
     "metadata": {},
     "output_type": "execute_result"
    }
   ],
   "source": [
    "# READING THE DATA FROM THE CSV DOCUMENT\n",
    "\n",
    "df = pd.read_csv('Data/winemag-data-130k-v2.csv')\n",
    "df.head()"
   ]
  },
  {
   "cell_type": "markdown",
   "metadata": {},
   "source": [
    "Here is the explanation of the different variables:\n",
    "- country: the country that the wine is from.\n",
    "- designation: the vineyard within the winery where the grapes that made the wine are from.\n",
    "- points: the number of points WineEnthusiast rated the wine on a scale of 1-100 (though they say they only post reviews for).\n",
    "- price: the cost for a bottle of the wine.\n",
    "- province: the province or state that the wine is from.\n",
    "- region_1: the wine growing area in a province or state (ie Napa).\n",
    "- region_2: sometimes there are more specific regions specified within a wine growing area (ie Rutherford inside the Napa Valley), but this value can sometimes be blank."
   ]
  },
  {
   "cell_type": "code",
   "execution_count": 3,
   "metadata": {
    "scrolled": true
   },
   "outputs": [
    {
     "name": "stdout",
     "output_type": "stream",
     "text": [
      "<class 'pandas.core.frame.DataFrame'>\n",
      "RangeIndex: 129971 entries, 0 to 129970\n",
      "Data columns (total 14 columns):\n",
      "Unnamed: 0               129971 non-null int64\n",
      "country                  129908 non-null object\n",
      "description              129971 non-null object\n",
      "designation              92506 non-null object\n",
      "points                   129971 non-null int64\n",
      "price                    120975 non-null float64\n",
      "province                 129908 non-null object\n",
      "region_1                 108724 non-null object\n",
      "region_2                 50511 non-null object\n",
      "taster_name              103727 non-null object\n",
      "taster_twitter_handle    98758 non-null object\n",
      "title                    129971 non-null object\n",
      "variety                  129970 non-null object\n",
      "winery                   129971 non-null object\n",
      "dtypes: float64(1), int64(2), object(11)\n",
      "memory usage: 13.9+ MB\n"
     ]
    }
   ],
   "source": [
    "# STRUCTURE OF THE DATA\n",
    "\n",
    "df.info()"
   ]
  },
  {
   "cell_type": "markdown",
   "metadata": {},
   "source": [
    "Some variables seem to be categorical. We will have a look to them later.\n",
    "\n",
    "The numerical ones are: 'Unamed: 0', 'points', 'price'.\n",
    "\n",
    "'region_1' and 'region_2' could be connected."
   ]
  },
  {
   "cell_type": "code",
   "execution_count": 4,
   "metadata": {},
   "outputs": [
    {
     "data": {
      "text/plain": [
       "0      0\n",
       "1      1\n",
       "2      2\n",
       "3      3\n",
       "4      4\n",
       "5      5\n",
       "6      6\n",
       "7      7\n",
       "8      8\n",
       "9      9\n",
       "10    10\n",
       "11    11\n",
       "12    12\n",
       "13    13\n",
       "14    14\n",
       "15    15\n",
       "16    16\n",
       "17    17\n",
       "18    18\n",
       "19    19\n",
       "Name: Unnamed: 0, dtype: int64"
      ]
     },
     "execution_count": 4,
     "metadata": {},
     "output_type": "execute_result"
    }
   ],
   "source": [
    "# UNNAMED: 0 VARIABLE\n",
    "\n",
    "df['Unnamed: 0'].head(20)"
   ]
  },
  {
   "cell_type": "markdown",
   "metadata": {},
   "source": [
    "The variable 'Unnamed: 0' can be dropped as it brings nothing. It is just a copy of index values."
   ]
  },
  {
   "cell_type": "code",
   "execution_count": 5,
   "metadata": {},
   "outputs": [],
   "source": [
    "# DROPPING THE 'UNNAMED: 0' VARIABLE\n",
    "\n",
    "df = df.drop('Unnamed: 0', axis=1)"
   ]
  },
  {
   "cell_type": "code",
   "execution_count": 6,
   "metadata": {},
   "outputs": [],
   "source": [
    "# DEFINING CATEGORICAL VARIABLES AND NUMERICAL\n",
    "\n",
    "num_variables = ['points', 'price']\n",
    "cat_variables = [variable for variable in df.columns if variable not in num_variables]"
   ]
  },
  {
   "cell_type": "code",
   "execution_count": 7,
   "metadata": {
    "scrolled": true
   },
   "outputs": [
    {
     "data": {
      "text/plain": [
       "<matplotlib.axes._subplots.AxesSubplot at 0x9d5179eb70>"
      ]
     },
     "execution_count": 7,
     "metadata": {},
     "output_type": "execute_result"
    },
    {
     "data": {
      "image/png": "[encoded data removed]",
      "text/plain": [
       "<Figure size 1080x720 with 1 Axes>"
      ]
     },
     "metadata": {
      "needs_background": "light"
     },
     "output_type": "display_data"
    }
   ],
   "source": [
    "# HEATMAP OF NAN VALUES\n",
    "\n",
    "plt.figure(figsize = (15,10))\n",
    "sns.heatmap(df.isnull(),yticklabels=False,cbar=False,cmap='viridis')"
   ]
  },
  {
   "cell_type": "markdown",
   "metadata": {},
   "source": [
    "Through this heatmap, we notice that some of the variables have missing content. "
   ]
  },
  {
   "cell_type": "code",
   "execution_count": 8,
   "metadata": {},
   "outputs": [],
   "source": [
    "def get_percent_missing_values_feature(feature):\n",
    "    '''\n",
    "    this function returns the percentage of missing value for a specific variable.\n",
    "    '''\n",
    "    missing_values = len(df[df[feature].isnull()])\n",
    "    total_length = len(df[feature])\n",
    "    print(\"[Feature '{}'] percentage missing values: {}% ({}/{})\\n\".format(feature, round(100 * missing_values/total_length,2), missing_values, total_length ))"
   ]
  },
  {
   "cell_type": "code",
   "execution_count": 9,
   "metadata": {},
   "outputs": [
    {
     "name": "stdout",
     "output_type": "stream",
     "text": [
      "[Feature 'country'] percentage missing values: 0.05% (63/129971)\n",
      "\n",
      "[Feature 'description'] percentage missing values: 0.0% (0/129971)\n",
      "\n",
      "[Feature 'designation'] percentage missing values: 28.83% (37465/129971)\n",
      "\n",
      "[Feature 'points'] percentage missing values: 0.0% (0/129971)\n",
      "\n",
      "[Feature 'price'] percentage missing values: 6.92% (8996/129971)\n",
      "\n",
      "[Feature 'province'] percentage missing values: 0.05% (63/129971)\n",
      "\n",
      "[Feature 'region_1'] percentage missing values: 16.35% (21247/129971)\n",
      "\n",
      "[Feature 'region_2'] percentage missing values: 61.14% (79460/129971)\n",
      "\n",
      "[Feature 'taster_name'] percentage missing values: 20.19% (26244/129971)\n",
      "\n",
      "[Feature 'taster_twitter_handle'] percentage missing values: 24.02% (31213/129971)\n",
      "\n",
      "[Feature 'title'] percentage missing values: 0.0% (0/129971)\n",
      "\n",
      "[Feature 'variety'] percentage missing values: 0.0% (1/129971)\n",
      "\n",
      "[Feature 'winery'] percentage missing values: 0.0% (0/129971)\n",
      "\n"
     ]
    }
   ],
   "source": [
    "# PERCENTAGE OF MISSING CONTENT PER VARIABLE\n",
    "\n",
    "for feature in df.columns:\n",
    "    get_percent_missing_values_feature(feature)"
   ]
  },
  {
   "cell_type": "markdown",
   "metadata": {},
   "source": [
    "We will check later if there is a possibility for the different variables to fill or not the missing content."
   ]
  },
  {
   "cell_type": "markdown",
   "metadata": {},
   "source": [
    "### I. 1. Analysis of numerical variables"
   ]
  },
  {
   "cell_type": "code",
   "execution_count": 10,
   "metadata": {},
   "outputs": [
    {
     "data": {
      "text/html": [
       "<div>\n",
       "<style scoped>\n",
       "    .dataframe tbody tr th:only-of-type {\n",
       "        vertical-align: middle;\n",
       "    }\n",
       "\n",
       "    .dataframe tbody tr th {\n",
       "        vertical-align: top;\n",
       "    }\n",
       "\n",
       "    .dataframe thead th {\n",
       "        text-align: right;\n",
       "    }\n",
       "</style>\n",
       "<table border=\"1\" class=\"dataframe\">\n",
       "  <thead>\n",
       "    <tr style=\"text-align: right;\">\n",
       "      <th></th>\n",
       "      <th>points</th>\n",
       "      <th>price</th>\n",
       "    </tr>\n",
       "  </thead>\n",
       "  <tbody>\n",
       "    <tr>\n",
       "      <th>count</th>\n",
       "      <td>129971.000000</td>\n",
       "      <td>120975.000000</td>\n",
       "    </tr>\n",
       "    <tr>\n",
       "      <th>mean</th>\n",
       "      <td>88.447138</td>\n",
       "      <td>35.363389</td>\n",
       "    </tr>\n",
       "    <tr>\n",
       "      <th>std</th>\n",
       "      <td>3.039730</td>\n",
       "      <td>41.022218</td>\n",
       "    </tr>\n",
       "    <tr>\n",
       "      <th>min</th>\n",
       "      <td>80.000000</td>\n",
       "      <td>4.000000</td>\n",
       "    </tr>\n",
       "    <tr>\n",
       "      <th>25%</th>\n",
       "      <td>86.000000</td>\n",
       "      <td>17.000000</td>\n",
       "    </tr>\n",
       "    <tr>\n",
       "      <th>50%</th>\n",
       "      <td>88.000000</td>\n",
       "      <td>25.000000</td>\n",
       "    </tr>\n",
       "    <tr>\n",
       "      <th>75%</th>\n",
       "      <td>91.000000</td>\n",
       "      <td>42.000000</td>\n",
       "    </tr>\n",
       "    <tr>\n",
       "      <th>max</th>\n",
       "      <td>100.000000</td>\n",
       "      <td>3300.000000</td>\n",
       "    </tr>\n",
       "  </tbody>\n",
       "</table>\n",
       "</div>"
      ],
      "text/plain": [
       "              points          price\n",
       "count  129971.000000  120975.000000\n",
       "mean       88.447138      35.363389\n",
       "std         3.039730      41.022218\n",
       "min        80.000000       4.000000\n",
       "25%        86.000000      17.000000\n",
       "50%        88.000000      25.000000\n",
       "75%        91.000000      42.000000\n",
       "max       100.000000    3300.000000"
      ]
     },
     "execution_count": 10,
     "metadata": {},
     "output_type": "execute_result"
    }
   ],
   "source": [
    "# DESCRIPTION OF NUMERICAL VARIABLES\n",
    "\n",
    "df.describe()"
   ]
  },
  {
   "cell_type": "markdown",
   "metadata": {},
   "source": [
    "- the median price is 25e.\n",
    "- the median score is 88 / 100.\n",
    "- it seems some outliers were introduced (max price = 3300 >> third quantile = 42).\n",
    "\n",
    "Experts seem to be fairly nice to give scores for wines as the minimum value is 80.\n",
    "The median from 'points' variable will be taken as starting value of a good wine for our analysis."
   ]
  },
  {
   "cell_type": "code",
   "execution_count": 11,
   "metadata": {},
   "outputs": [
    {
     "name": "stdout",
     "output_type": "stream",
     "text": [
      "99th quantile for points: 95.0\n",
      "99th quantile for price: 155.0\n"
     ]
    }
   ],
   "source": [
    "# LET'S CHECK THE VALUE OF THE 99TH QUANTILE\n",
    "\n",
    "for feature in num_variables:\n",
    "    print(\"99th quantile for {}: {}\".format(feature, df[feature].quantile(0.99)))"
   ]
  },
  {
   "cell_type": "markdown",
   "metadata": {},
   "source": [
    "The last 1st Quantile gather all the extremist prices which will be removed from our dataset."
   ]
  },
  {
   "cell_type": "code",
   "execution_count": 12,
   "metadata": {},
   "outputs": [],
   "source": [
    "# REMOVING EXTREMIST PRICES\n",
    "\n",
    "df = df[df[\"price\"] < df[\"price\"].quantile(0.99)] "
   ]
  },
  {
   "cell_type": "code",
   "execution_count": 13,
   "metadata": {},
   "outputs": [
    {
     "data": {
      "text/plain": [
       "Text(0.5, 1.0, \"Distribution of 'price' values\")"
      ]
     },
     "execution_count": 13,
     "metadata": {},
     "output_type": "execute_result"
    },
    {
     "data": {
      "image/png": "[encoded data removed]",
      "text/plain": [
       "<Figure size 1080x288 with 1 Axes>"
      ]
     },
     "metadata": {
      "needs_background": "light"
     },
     "output_type": "display_data"
    }
   ],
   "source": [
    "# DISTRIBUTION OF PRICE\n",
    "\n",
    "plt.figure(figsize=(15,4))\n",
    "sns.kdeplot(df[\"price\"])\n",
    "plt.title(\"Distribution of 'price' values\")"
   ]
  },
  {
   "cell_type": "code",
   "execution_count": 14,
   "metadata": {},
   "outputs": [
    {
     "data": {
      "text/plain": [
       "Text(0.5, 1.0, \"Distribution of 'points' values\")"
      ]
     },
     "execution_count": 14,
     "metadata": {},
     "output_type": "execute_result"
    },
    {
     "data": {
      "image/png": "[encoded data removed]",
      "text/plain": [
       "<Figure size 1080x288 with 1 Axes>"
      ]
     },
     "metadata": {
      "needs_background": "light"
     },
     "output_type": "display_data"
    }
   ],
   "source": [
    "# DISTRIBUTION OF POINTS\n",
    "\n",
    "plt.figure(figsize=(15,4))\n",
    "sns.kdeplot(df[\"points\"])\n",
    "plt.title(\"Distribution of 'points' values\")"
   ]
  },
  {
   "cell_type": "markdown",
   "metadata": {},
   "source": [
    "The missing values of 'price' will be replaced by its median value."
   ]
  },
  {
   "cell_type": "code",
   "execution_count": 15,
   "metadata": {},
   "outputs": [],
   "source": [
    "# REPLACE NAN 'PRICE' VALUES BY ITS MEDIAN\n",
    "\n",
    "df[\"price\"] = df[\"price\"].fillna(df[\"price\"].median())"
   ]
  },
  {
   "cell_type": "markdown",
   "metadata": {},
   "source": [
    "### I. 2. Analysis of categorical variables"
   ]
  },
  {
   "cell_type": "markdown",
   "metadata": {},
   "source": [
    "#### \"region_2\" and \"region_1\""
   ]
  },
  {
   "cell_type": "markdown",
   "metadata": {},
   "source": [
    "If the info is missing in \"region_1\" but exists in \"region_2\", value can be replaced (also true for \"region_2\").\n",
    "Only 1 feature will be kept and called \"region\"."
   ]
  },
  {
   "cell_type": "code",
   "execution_count": 16,
   "metadata": {},
   "outputs": [
    {
     "name": "stdout",
     "output_type": "stream",
     "text": [
      "When there is no info about 'region', does it mean 'region_1' has also no info?\n",
      "Answer: True\n",
      "\n",
      "When there is no info about 'region', does it mean 'region_2' has also no info?\n",
      "Answer: False\n"
     ]
    }
   ],
   "source": [
    "# DATA WITH MISSING VALUES IN 'REGION_1' AND 'REGION_2' (WITHOUT ANY INFO ABOUT REGION).\n",
    "data_without_region = df[(df[\"region_1\"].isnull() == True) & (df[\"region_2\"].isnull() == True)]\n",
    "\n",
    "# DATA WITH MISSING VALUES IN 'REGION_1'.\n",
    "data_without_region_1 = df[df[\"region_1\"].isnull() == True]\n",
    "\n",
    "# DATA WITH MISSING VALUES IN 'REGION_2'.\n",
    "data_without_region_2 = df[df[\"region_2\"].isnull() == True]\n",
    "\n",
    "print(\"When there is no info about 'region', does it mean 'region_1' has also no info?\\nAnswer: {}\\n\".format(data_without_region.equals(data_without_region_1)))\n",
    "print(\"When there is no info about 'region', does it mean 'region_2' has also no info?\\nAnswer: {}\".format(data_without_region.equals(data_without_region_2)))"
   ]
  },
  {
   "cell_type": "markdown",
   "metadata": {},
   "source": [
    "When there is no data in \"region_1\", \"region_2\" is also empty (because there is no info about 'region').\n",
    "\n",
    "Actually, \"region_2\" provides more information about \"region_1\" when it is available. As there are too many missing values, \"region_2\" will be dropped. Keeping \"region_1\" will be enough."
   ]
  },
  {
   "cell_type": "code",
   "execution_count": 17,
   "metadata": {},
   "outputs": [],
   "source": [
    "df = df.drop(\"region_2\", axis=1)\n",
    "df = df.rename(columns = {\"region_1\" : \"region\"})"
   ]
  },
  {
   "cell_type": "markdown",
   "metadata": {},
   "source": [
    "#### \"country\""
   ]
  },
  {
   "cell_type": "code",
   "execution_count": 18,
   "metadata": {},
   "outputs": [
    {
     "name": "stdout",
     "output_type": "stream",
     "text": [
      "[Feature 'country'] percentage missing values: 0.05% (59/119758)\n",
      "\n"
     ]
    }
   ],
   "source": [
    "get_percent_missing_values_feature('country')"
   ]
  },
  {
   "cell_type": "markdown",
   "metadata": {},
   "source": [
    "The NAN values can be dropped as the percentage of missing values is very low."
   ]
  },
  {
   "cell_type": "code",
   "execution_count": 19,
   "metadata": {},
   "outputs": [],
   "source": [
    "df = df.dropna(subset=['country'])"
   ]
  },
  {
   "cell_type": "markdown",
   "metadata": {},
   "source": [
    "### II. Answering questions"
   ]
  },
  {
   "cell_type": "markdown",
   "metadata": {},
   "source": [
    "Let's introduce a variable called 'ratio' which will be useful to evaluate the quality of a wine.\n",
    "It equals to 'points' divided by 'price'."
   ]
  },
  {
   "cell_type": "code",
   "execution_count": 20,
   "metadata": {},
   "outputs": [],
   "source": [
    "# RATIO = POINTS / PRICE\n",
    "df[\"ratio\"] = df[\"points\"] / df[\"price\"]"
   ]
  },
  {
   "cell_type": "code",
   "execution_count": 21,
   "metadata": {},
   "outputs": [],
   "source": [
    "def plot_top_for_cat(data_top5, category, title):\n",
    "    '''\n",
    "    this function plots a barplot of an average value per country\n",
    "    '''\n",
    "    plt.figure(figsize=(15,6))\n",
    "    ax = sns.barplot(y=data_top5, x=data_top5.index)\n",
    "    ax.set_xlabel('Country', size = 17)\n",
    "    ax.set_ylabel(\"Average \" + category, size = 17)\n",
    "    ax.set_title(title, size = 17)\n",
    "\n",
    "    i=0\n",
    "    for average_category in data_top5:\n",
    "        ax.text(i, round(average_category,2), round(average_category,2), color='black', ha=\"center\", size=15)\n",
    "        i += 1 \n",
    "        \n",
    "def top_entries_countries(data_top5):\n",
    "    '''\n",
    "    this function gives the number of entries per country\n",
    "    '''\n",
    "    for index, country in enumerate(data_top5.index):\n",
    "        print(\"RANK {} - [Country {}] number of entries: {} (total: {})\".format(index+1, country, df_groupedby_country.loc[country, 'entries_counts'], df_groupedby_country['entries_counts'].sum()))\n",
    "        \n",
    "def top_avg_price_countries(data_top5):\n",
    "    '''\n",
    "    this function gives the average price of a bottle of wine per country\n",
    "    '''\n",
    "    for index, country in enumerate(data_top5.index):\n",
    "        print(\"RANK {} - [Country {}] average price: {}\".format(index+1, country, df_groupedby_country.loc[country, 'price'])) \n",
    "    "
   ]
  },
  {
   "cell_type": "markdown",
   "metadata": {},
   "source": [
    "### II. 1. What are the countries with the best wine quality in the world?"
   ]
  },
  {
   "cell_type": "code",
   "execution_count": 22,
   "metadata": {},
   "outputs": [],
   "source": [
    "# GROUPING PER COUNTRY AND TAKING THE MEAN FOR NUMERICAL VALUES\n",
    "df_groupedby_country = df.groupby('country').mean()"
   ]
  },
  {
   "cell_type": "code",
   "execution_count": 23,
   "metadata": {},
   "outputs": [],
   "source": [
    "# ADDING THE NUMBER OF ENTRIES PER COUNTRY\n",
    "df_groupedby_country['entries_counts'] = df.groupby('country').size()"
   ]
  },
  {
   "cell_type": "code",
   "execution_count": 24,
   "metadata": {},
   "outputs": [
    {
     "data": {
      "text/html": [
       "<div>\n",
       "<style scoped>\n",
       "    .dataframe tbody tr th:only-of-type {\n",
       "        vertical-align: middle;\n",
       "    }\n",
       "\n",
       "    .dataframe tbody tr th {\n",
       "        vertical-align: top;\n",
       "    }\n",
       "\n",
       "    .dataframe thead th {\n",
       "        text-align: right;\n",
       "    }\n",
       "</style>\n",
       "<table border=\"1\" class=\"dataframe\">\n",
       "  <thead>\n",
       "    <tr style=\"text-align: right;\">\n",
       "      <th></th>\n",
       "      <th>points</th>\n",
       "      <th>price</th>\n",
       "      <th>ratio</th>\n",
       "      <th>entries_counts</th>\n",
       "    </tr>\n",
       "    <tr>\n",
       "      <th>country</th>\n",
       "      <th></th>\n",
       "      <th></th>\n",
       "      <th></th>\n",
       "      <th></th>\n",
       "    </tr>\n",
       "  </thead>\n",
       "  <tbody>\n",
       "    <tr>\n",
       "      <th>Argentina</th>\n",
       "      <td>86.692410</td>\n",
       "      <td>23.878942</td>\n",
       "      <td>5.189083</td>\n",
       "      <td>3742</td>\n",
       "    </tr>\n",
       "    <tr>\n",
       "      <th>Armenia</th>\n",
       "      <td>87.500000</td>\n",
       "      <td>14.500000</td>\n",
       "      <td>6.040476</td>\n",
       "      <td>2</td>\n",
       "    </tr>\n",
       "    <tr>\n",
       "      <th>Australia</th>\n",
       "      <td>88.513932</td>\n",
       "      <td>31.322866</td>\n",
       "      <td>4.299659</td>\n",
       "      <td>2261</td>\n",
       "    </tr>\n",
       "    <tr>\n",
       "      <th>Austria</th>\n",
       "      <td>90.187344</td>\n",
       "      <td>30.334287</td>\n",
       "      <td>3.815339</td>\n",
       "      <td>2797</td>\n",
       "    </tr>\n",
       "    <tr>\n",
       "      <th>Bosnia and Herzegovina</th>\n",
       "      <td>86.500000</td>\n",
       "      <td>12.500000</td>\n",
       "      <td>6.935897</td>\n",
       "      <td>2</td>\n",
       "    </tr>\n",
       "  </tbody>\n",
       "</table>\n",
       "</div>"
      ],
      "text/plain": [
       "                           points      price     ratio  entries_counts\n",
       "country                                                               \n",
       "Argentina               86.692410  23.878942  5.189083            3742\n",
       "Armenia                 87.500000  14.500000  6.040476               2\n",
       "Australia               88.513932  31.322866  4.299659            2261\n",
       "Austria                 90.187344  30.334287  3.815339            2797\n",
       "Bosnia and Herzegovina  86.500000  12.500000  6.935897               2"
      ]
     },
     "execution_count": 24,
     "metadata": {},
     "output_type": "execute_result"
    }
   ],
   "source": [
    "df_groupedby_country.head()"
   ]
  },
  {
   "cell_type": "markdown",
   "metadata": {},
   "source": [
    "we observe that some countries do not have enough entry data. It would be better to remove them as they might have an impact on our statistics analysis.\n",
    "\n",
    "Let's consider countries which have a number of entries greater than the 20th quantile."
   ]
  },
  {
   "cell_type": "code",
   "execution_count": 25,
   "metadata": {},
   "outputs": [],
   "source": [
    "# COUNTRIES WITH MORE THAN THE 20TH QUANTILE OF ENTRIES WILL BE CONSIDERED\n",
    "\n",
    "df_groupedby_country = df_groupedby_country[df_groupedby_country['entries_counts'] > df_groupedby_country['entries_counts'].quantile(0.20)]"
   ]
  },
  {
   "cell_type": "code",
   "execution_count": 26,
   "metadata": {},
   "outputs": [
    {
     "data": {
      "text/html": [
       "<div>\n",
       "<style scoped>\n",
       "    .dataframe tbody tr th:only-of-type {\n",
       "        vertical-align: middle;\n",
       "    }\n",
       "\n",
       "    .dataframe tbody tr th {\n",
       "        vertical-align: top;\n",
       "    }\n",
       "\n",
       "    .dataframe thead th {\n",
       "        text-align: right;\n",
       "    }\n",
       "</style>\n",
       "<table border=\"1\" class=\"dataframe\">\n",
       "  <thead>\n",
       "    <tr style=\"text-align: right;\">\n",
       "      <th></th>\n",
       "      <th>points</th>\n",
       "      <th>price</th>\n",
       "      <th>ratio</th>\n",
       "      <th>entries_counts</th>\n",
       "    </tr>\n",
       "  </thead>\n",
       "  <tbody>\n",
       "    <tr>\n",
       "      <th>count</th>\n",
       "      <td>31.000000</td>\n",
       "      <td>31.000000</td>\n",
       "      <td>31.000000</td>\n",
       "      <td>31.000000</td>\n",
       "    </tr>\n",
       "    <tr>\n",
       "      <th>mean</th>\n",
       "      <td>87.673525</td>\n",
       "      <td>26.169680</td>\n",
       "      <td>4.754984</td>\n",
       "      <td>3858.935484</td>\n",
       "    </tr>\n",
       "    <tr>\n",
       "      <th>std</th>\n",
       "      <td>1.695445</td>\n",
       "      <td>8.380441</td>\n",
       "      <td>1.587333</td>\n",
       "      <td>10248.489973</td>\n",
       "    </tr>\n",
       "    <tr>\n",
       "      <th>min</th>\n",
       "      <td>83.562500</td>\n",
       "      <td>9.214286</td>\n",
       "      <td>1.913598</td>\n",
       "      <td>14.000000</td>\n",
       "    </tr>\n",
       "    <tr>\n",
       "      <th>25%</th>\n",
       "      <td>86.977842</td>\n",
       "      <td>21.200155</td>\n",
       "      <td>3.814074</td>\n",
       "      <td>70.500000</td>\n",
       "    </tr>\n",
       "    <tr>\n",
       "      <th>50%</th>\n",
       "      <td>87.936170</td>\n",
       "      <td>25.450704</td>\n",
       "      <td>4.244852</td>\n",
       "      <td>142.000000</td>\n",
       "    </tr>\n",
       "    <tr>\n",
       "      <th>75%</th>\n",
       "      <td>88.547894</td>\n",
       "      <td>31.545891</td>\n",
       "      <td>5.208710</td>\n",
       "      <td>2529.000000</td>\n",
       "    </tr>\n",
       "    <tr>\n",
       "      <th>max</th>\n",
       "      <td>91.550725</td>\n",
       "      <td>51.681159</td>\n",
       "      <td>9.671551</td>\n",
       "      <td>53980.000000</td>\n",
       "    </tr>\n",
       "  </tbody>\n",
       "</table>\n",
       "</div>"
      ],
      "text/plain": [
       "          points      price      ratio  entries_counts\n",
       "count  31.000000  31.000000  31.000000       31.000000\n",
       "mean   87.673525  26.169680   4.754984     3858.935484\n",
       "std     1.695445   8.380441   1.587333    10248.489973\n",
       "min    83.562500   9.214286   1.913598       14.000000\n",
       "25%    86.977842  21.200155   3.814074       70.500000\n",
       "50%    87.936170  25.450704   4.244852      142.000000\n",
       "75%    88.547894  31.545891   5.208710     2529.000000\n",
       "max    91.550725  51.681159   9.671551    53980.000000"
      ]
     },
     "execution_count": 26,
     "metadata": {},
     "output_type": "execute_result"
    }
   ],
   "source": [
    "# DESCRIPTION OF THE GROUPEDBY 'COUNTRY' DATAFRAME\n",
    "\n",
    "df_groupedby_country.describe()"
   ]
  },
  {
   "cell_type": "code",
   "execution_count": 27,
   "metadata": {},
   "outputs": [],
   "source": [
    "# TOP 10 COUNTRIES IN 'POINTS'\n",
    "top10_points = df_groupedby_country['points'].sort_values(ascending=False)[:10]"
   ]
  },
  {
   "cell_type": "code",
   "execution_count": 28,
   "metadata": {},
   "outputs": [
    {
     "data": {
      "image/png": "[encoded data removed]",
      "text/plain": [
       "<Figure size 1080x432 with 1 Axes>"
      ]
     },
     "metadata": {
      "needs_background": "light"
     },
     "output_type": "display_data"
    }
   ],
   "source": [
    "plot_top_for_cat(top10_points, \"points\", \"Top 10 countries in 'points'\")"
   ]
  },
  {
   "cell_type": "code",
   "execution_count": 29,
   "metadata": {},
   "outputs": [
    {
     "name": "stdout",
     "output_type": "stream",
     "text": [
      "RANK 1 - [Country England] number of entries: 69 (total: 119627)\n",
      "RANK 2 - [Country Austria] number of entries: 2797 (total: 119627)\n",
      "RANK 3 - [Country Germany] number of entries: 2056 (total: 119627)\n",
      "RANK 4 - [Country Canada] number of entries: 254 (total: 119627)\n",
      "RANK 5 - [Country Hungary] number of entries: 142 (total: 119627)\n",
      "RANK 6 - [Country France] number of entries: 17317 (total: 119627)\n",
      "RANK 7 - [Country Morocco] number of entries: 28 (total: 119627)\n",
      "RANK 8 - [Country Italy] number of entries: 16687 (total: 119627)\n",
      "RANK 9 - [Country US] number of entries: 53980 (total: 119627)\n",
      "RANK 10 - [Country Australia] number of entries: 2261 (total: 119627)\n"
     ]
    }
   ],
   "source": [
    "top_entries_countries(top10_points)"
   ]
  },
  {
   "cell_type": "code",
   "execution_count": 30,
   "metadata": {},
   "outputs": [
    {
     "name": "stdout",
     "output_type": "stream",
     "text": [
      "RANK 1 - [Country England] average price: 51.68115942028985\n",
      "RANK 2 - [Country Austria] average price: 30.334286735788346\n",
      "RANK 3 - [Country Germany] average price: 33.17363813229572\n",
      "RANK 4 - [Country Canada] average price: 35.71259842519685\n",
      "RANK 5 - [Country Hungary] average price: 32.640845070422536\n",
      "RANK 6 - [Country France] average price: 33.156724605878615\n",
      "RANK 7 - [Country Morocco] average price: 19.5\n",
      "RANK 8 - [Country Italy] average price: 36.75010487205609\n",
      "RANK 9 - [Country US] average price: 35.58834753612449\n",
      "RANK 10 - [Country Australia] average price: 31.322865988500663\n"
     ]
    }
   ],
   "source": [
    "top_avg_price_countries(top10_points)"
   ]
  },
  {
   "cell_type": "code",
   "execution_count": 31,
   "metadata": {},
   "outputs": [
    {
     "data": {
      "text/plain": [
       "country\n",
       "England      51.681159\n",
       "Italy        36.750105\n",
       "Canada       35.712598\n",
       "US           35.588348\n",
       "Germany      33.173638\n",
       "France       33.156725\n",
       "Hungary      32.640845\n",
       "Israel       31.768916\n",
       "Australia    31.322866\n",
       "Lebanon      30.685714\n",
       "Name: price, dtype: float64"
      ]
     },
     "execution_count": 31,
     "metadata": {},
     "output_type": "execute_result"
    }
   ],
   "source": [
    "df_groupedby_country['price'].sort_values(ascending=False)[:10]"
   ]
  },
  {
   "cell_type": "markdown",
   "metadata": {},
   "source": [
    "England seems leading the top 10 countries in 'points'. Its number of entry is largely less than the other ones, which could biase the results.\n",
    "\n",
    "With a total number of 2797 entries and a second rank, Austria seems to be here the real winner.\n",
    "\n",
    "The average price of english bottle of wines is almost the double than the other top 10 countries (and it is even the most expensive from the whole list of countries) \n",
    "\n",
    "A question could be raised here: compared to known countries such as France, Italy, Spain, in wine domain ....why is the wine so much expensive in England? "
   ]
  },
  {
   "cell_type": "markdown",
   "metadata": {},
   "source": [
    "### II. 2. Which countries show the best potential for investment in wines?"
   ]
  },
  {
   "cell_type": "markdown",
   "metadata": {},
   "source": [
    "We are interested in finding the best ratio quality / price for wine.\n",
    "Let's define a new variable called 'ratio' corresponding to 'points' divided by 'price' ( corresponding to the quality of a wine)"
   ]
  },
  {
   "cell_type": "code",
   "execution_count": 32,
   "metadata": {},
   "outputs": [],
   "source": [
    "# TOP 10 COUNTRIES IN 'RATIO'\n",
    "top10_ratio = df_groupedby_country['ratio'].sort_values(ascending=False)[:10]"
   ]
  },
  {
   "cell_type": "code",
   "execution_count": 33,
   "metadata": {},
   "outputs": [
    {
     "data": {
      "image/png": "[encoded data removed]",
      "text/plain": [
       "<Figure size 1080x432 with 1 Axes>"
      ]
     },
     "metadata": {
      "needs_background": "light"
     },
     "output_type": "display_data"
    }
   ],
   "source": [
    "plot_top_for_cat(top10_ratio, \"ratio\", \"Top 10 countries in 'ratio'\")"
   ]
  },
  {
   "cell_type": "code",
   "execution_count": 34,
   "metadata": {},
   "outputs": [
    {
     "name": "stdout",
     "output_type": "stream",
     "text": [
      "RANK 1 - [Country Ukraine] number of entries: 14 (total: 119627)\n",
      "RANK 2 - [Country Romania] number of entries: 119 (total: 119627)\n",
      "RANK 3 - [Country Bulgaria] number of entries: 141 (total: 119627)\n",
      "RANK 4 - [Country Moldova] number of entries: 59 (total: 119627)\n",
      "RANK 5 - [Country Chile] number of entries: 4403 (total: 119627)\n",
      "RANK 6 - [Country Peru] number of entries: 16 (total: 119627)\n",
      "RANK 7 - [Country Portugal] number of entries: 4839 (total: 119627)\n",
      "RANK 8 - [Country Georgia] number of entries: 84 (total: 119627)\n",
      "RANK 9 - [Country Argentina] number of entries: 3742 (total: 119627)\n",
      "RANK 10 - [Country South Africa] number of entries: 1289 (total: 119627)\n"
     ]
    }
   ],
   "source": [
    "top_entries_countries(top10_ratio)"
   ]
  },
  {
   "cell_type": "code",
   "execution_count": 35,
   "metadata": {},
   "outputs": [
    {
     "data": {
      "image/png": "[encoded data removed]",
      "text/plain": [
       "<Figure size 1080x432 with 1 Axes>"
      ]
     },
     "metadata": {
      "needs_background": "light"
     },
     "output_type": "display_data"
    }
   ],
   "source": [
    "# WORST 10 COUNTRIES IN 'POINTS'\n",
    "worst10_points = df_groupedby_country['points'].sort_values(ascending=True)[:10]\n",
    "\n",
    "plot_top_for_cat(worst10_points, \"points\", \"Worst 10 countries in 'points'\")"
   ]
  },
  {
   "cell_type": "markdown",
   "metadata": {},
   "source": [
    "Ukrania seems leading the top 10 potential countries which show the best ratio between 'points' and 'price'.\n",
    "\n",
    "4 countries from the top 10 belong to balkans countries: Ukraine, Romania, Bulgaria and Moldova.\n",
    "\n",
    "They seem to show high potential for investors. However: Ukraine, Romania, Moldova are also part of the 10 worst ones in score. Their ratio is high because the price of their bottles is still cheap compared to the rest of the world."
   ]
  },
  {
   "cell_type": "code",
   "execution_count": 36,
   "metadata": {},
   "outputs": [
    {
     "name": "stdout",
     "output_type": "stream",
     "text": [
      "RANK 1 - [Country Ukraine] average price: 9.214285714285714\n",
      "RANK 2 - [Country Romania] average price: 12.680672268907562\n",
      "RANK 3 - [Country Bulgaria] average price: 14.645390070921986\n",
      "RANK 4 - [Country Moldova] average price: 16.74576271186441\n",
      "RANK 5 - [Country Chile] average price: 20.03588462411992\n",
      "RANK 6 - [Country Peru] average price: 18.0625\n",
      "RANK 7 - [Country Portugal] average price: 23.563339532961354\n",
      "RANK 8 - [Country Georgia] average price: 19.321428571428573\n",
      "RANK 9 - [Country Argentina] average price: 23.878941742383752\n",
      "RANK 10 - [Country South Africa] average price: 23.94259115593483\n"
     ]
    }
   ],
   "source": [
    "top_avg_price_countries(top10_ratio)"
   ]
  },
  {
   "cell_type": "code",
   "execution_count": 37,
   "metadata": {},
   "outputs": [
    {
     "data": {
      "text/plain": [
       "country\n",
       "Ukraine          9.214286\n",
       "Romania         12.680672\n",
       "Bulgaria        14.645390\n",
       "Moldova         16.745763\n",
       "Peru            18.062500\n",
       "Georgia         19.321429\n",
       "Morocco         19.500000\n",
       "Chile           20.035885\n",
       "Greece          22.364425\n",
       "Portugal        23.563340\n",
       "Brazil          23.765957\n",
       "Argentina       23.878942\n",
       "South Africa    23.942591\n",
       "Turkey          24.633333\n",
       "Slovenia        24.812500\n",
       "Name: price, dtype: float64"
      ]
     },
     "execution_count": 37,
     "metadata": {},
     "output_type": "execute_result"
    }
   ],
   "source": [
    "df_groupedby_country['price'].sort_values(ascending=True)[:15]"
   ]
  },
  {
   "cell_type": "markdown",
   "metadata": {},
   "source": [
    "Uktraine, Romania, Bulgaria and Moldova are the cheapest wines country from our database. It confirms what it has been stated previously."
   ]
  },
  {
   "cell_type": "markdown",
   "metadata": {},
   "source": [
    "It is interesting to notice that Bulgaria, ranked as 3 from potential countries, doesn't belong to the 10 worst countries in points. However, with few entries in the database compared to Chile or Portugal, it is hard to conclude that it might be the best potential country."
   ]
  },
  {
   "cell_type": "code",
   "execution_count": 38,
   "metadata": {},
   "outputs": [
    {
     "name": "stdout",
     "output_type": "stream",
     "text": [
      "Bulgaria is ranked in points: 15 / 31\n"
     ]
    }
   ],
   "source": [
    "#GET BULGARIA RANK IN 'POINTS'\n",
    "for index, country in enumerate(df_groupedby_country['points'].sort_values().index):\n",
    "    if country == 'Bulgaria':\n",
    "        rank = index + 1\n",
    "        print(\"Bulgaria is ranked in points: {} / {}\".format(len(df_groupedby_country) - rank, len(df_groupedby_country)))"
   ]
  },
  {
   "cell_type": "code",
   "execution_count": 39,
   "metadata": {},
   "outputs": [
    {
     "data": {
      "text/plain": [
       "country\n",
       "US           53980\n",
       "France       17317\n",
       "Italy        16687\n",
       "Spain         6500\n",
       "Portugal      4839\n",
       "Chile         4403\n",
       "Argentina     3742\n",
       "Austria       2797\n",
       "Australia     2261\n",
       "Germany       2056\n",
       "Name: entries_counts, dtype: int64"
      ]
     },
     "execution_count": 39,
     "metadata": {},
     "output_type": "execute_result"
    }
   ],
   "source": [
    "df_groupedby_country['entries_counts'].sort_values(ascending=False)[:10]"
   ]
  },
  {
   "cell_type": "markdown",
   "metadata": {},
   "source": [
    "From the whole database, Portugal is ranked 5 and Chile is ranked 6 from the 'entries_counts'. It shows that both countries have a more stable place in the ranking, from 'ratio' but also in 'points'. Unfortunately to Chile, it belongs to the 10 worst countries with a rank 6.\n",
    "Besides to Bulgaria, Portugal seems showing potential."
   ]
  },
  {
   "cell_type": "code",
   "execution_count": 40,
   "metadata": {},
   "outputs": [
    {
     "name": "stdout",
     "output_type": "stream",
     "text": [
      "Portugal is ranked in points: 12 / 31\n"
     ]
    }
   ],
   "source": [
    "#GET PORTUGAL RANK IN 'POINTS'\n",
    "for index, country in enumerate(df_groupedby_country['points'].sort_values().index):\n",
    "    if country == 'Portugal':\n",
    "        rank = index + 1\n",
    "        print(\"Portugal is ranked in points: {} / {}\".format(len(df_groupedby_country) - rank, len(df_groupedby_country)))"
   ]
  },
  {
   "cell_type": "markdown",
   "metadata": {},
   "source": [
    "Portugal and Bulgaria seem to be promised to a bright future, with a correct ranking in 'points' and a correct price (especially Bulgaria which has very cheap wine).\n",
    "Portugal is already known to be a good wine, with an already established position in 'entries_counts'."
   ]
  },
  {
   "cell_type": "markdown",
   "metadata": {},
   "source": [
    "As the minimum given is 80/100 and the cheapest bottles of wines are in the Balkans, it explains why the 'ratio' of the balkans belong to the top 5.\n",
    "\n",
    "A question could be raised here: why is the minimum given in points 80/100? On which criteria are the points given?"
   ]
  },
  {
   "cell_type": "markdown",
   "metadata": {},
   "source": [
    "### II. 3. What should be the average price for a good wine?"
   ]
  },
  {
   "cell_type": "markdown",
   "metadata": {},
   "source": [
    "The dataset can be seen in 2 ways:\n",
    "- in reality, a grade of 80/100 is good. As it is the minimum of our dataset, all wines ranked are then considered as good.\n",
    "- we consider only the wines above the median value of points."
   ]
  },
  {
   "cell_type": "code",
   "execution_count": 41,
   "metadata": {},
   "outputs": [
    {
     "name": "stdout",
     "output_type": "stream",
     "text": [
      "[FILTERED TO POINTS > MEDIAN] The median price of a good wine is: 38.0\n",
      "[WHOLE DATASET] The median price of a good wine is: 25.0\n"
     ]
    }
   ],
   "source": [
    "# FINDING AN AVERAGE PRICE FOR A GOOD WINE (POINTS > MEDIAN)\n",
    "df_good_wines = df[df['points'] > df['points'].median()]\n",
    "\n",
    "\n",
    "print(\"[FILTERED TO POINTS > MEDIAN] The median price of a good wine is: {}\".format(df_good_wines['price'].median()))\n",
    "\n",
    "# FINDING AN AVERAGE PRICE FOR A GOOD WINE (WHOLE DATASET)\n",
    "print(\"[WHOLE DATASET] The median price of a good wine is: {}\".format(df['price'].median()))"
   ]
  },
  {
   "cell_type": "markdown",
   "metadata": {},
   "source": [
    "### II.4. What are the most successful varieties and for which country?"
   ]
  },
  {
   "cell_type": "code",
   "execution_count": 42,
   "metadata": {},
   "outputs": [],
   "source": [
    "# GROUPING PER VARIETY AND TAKING THE MEAN FOR NUMERICAL VALUES\n",
    "df_groupby_variety = df.groupby('variety').mean()"
   ]
  },
  {
   "cell_type": "code",
   "execution_count": 43,
   "metadata": {},
   "outputs": [],
   "source": [
    "# ADDING THE NUMBER OF ENTRIES PER VARIETY\n",
    "df_groupby_variety['entries_counts'] = df.groupby('variety').size()"
   ]
  },
  {
   "cell_type": "code",
   "execution_count": 44,
   "metadata": {},
   "outputs": [
    {
     "data": {
      "text/html": [
       "<div>\n",
       "<style scoped>\n",
       "    .dataframe tbody tr th:only-of-type {\n",
       "        vertical-align: middle;\n",
       "    }\n",
       "\n",
       "    .dataframe tbody tr th {\n",
       "        vertical-align: top;\n",
       "    }\n",
       "\n",
       "    .dataframe thead th {\n",
       "        text-align: right;\n",
       "    }\n",
       "</style>\n",
       "<table border=\"1\" class=\"dataframe\">\n",
       "  <thead>\n",
       "    <tr style=\"text-align: right;\">\n",
       "      <th></th>\n",
       "      <th>points</th>\n",
       "      <th>price</th>\n",
       "      <th>ratio</th>\n",
       "      <th>entries_counts</th>\n",
       "    </tr>\n",
       "    <tr>\n",
       "      <th>variety</th>\n",
       "      <th></th>\n",
       "      <th></th>\n",
       "      <th></th>\n",
       "      <th></th>\n",
       "    </tr>\n",
       "  </thead>\n",
       "  <tbody>\n",
       "    <tr>\n",
       "      <th>Abouriou</th>\n",
       "      <td>87.666667</td>\n",
       "      <td>35.000000</td>\n",
       "      <td>4.333333</td>\n",
       "      <td>3</td>\n",
       "    </tr>\n",
       "    <tr>\n",
       "      <th>Agiorgitiko</th>\n",
       "      <td>87.031746</td>\n",
       "      <td>23.571429</td>\n",
       "      <td>4.598023</td>\n",
       "      <td>63</td>\n",
       "    </tr>\n",
       "    <tr>\n",
       "      <th>Aglianico</th>\n",
       "      <td>89.385666</td>\n",
       "      <td>38.406143</td>\n",
       "      <td>3.073715</td>\n",
       "      <td>293</td>\n",
       "    </tr>\n",
       "    <tr>\n",
       "      <th>Aidani</th>\n",
       "      <td>82.000000</td>\n",
       "      <td>27.000000</td>\n",
       "      <td>3.037037</td>\n",
       "      <td>1</td>\n",
       "    </tr>\n",
       "    <tr>\n",
       "      <th>Airen</th>\n",
       "      <td>81.666667</td>\n",
       "      <td>9.000000</td>\n",
       "      <td>9.154630</td>\n",
       "      <td>3</td>\n",
       "    </tr>\n",
       "  </tbody>\n",
       "</table>\n",
       "</div>"
      ],
      "text/plain": [
       "                points      price     ratio  entries_counts\n",
       "variety                                                    \n",
       "Abouriou     87.666667  35.000000  4.333333               3\n",
       "Agiorgitiko  87.031746  23.571429  4.598023              63\n",
       "Aglianico    89.385666  38.406143  3.073715             293\n",
       "Aidani       82.000000  27.000000  3.037037               1\n",
       "Airen        81.666667   9.000000  9.154630               3"
      ]
     },
     "execution_count": 44,
     "metadata": {},
     "output_type": "execute_result"
    }
   ],
   "source": [
    "df_groupby_variety.head()"
   ]
  },
  {
   "cell_type": "markdown",
   "metadata": {},
   "source": [
    "we observe that some varieties do not have enough entry data. It would be better to remove them as they might have an impact on our statistics analysis.\n",
    "\n",
    "Let's consider varieties which have a number of entries greater than the 20th quantile."
   ]
  },
  {
   "cell_type": "code",
   "execution_count": 45,
   "metadata": {},
   "outputs": [],
   "source": [
    "# VARIETIES WITH MORE THAN THE 20TH QUANTILE OF ENTRIES WILL BE CONSIDERED\n",
    "\n",
    "df_groupby_variety = df_groupby_variety[df_groupby_variety['entries_counts'] > df_groupedby_country['entries_counts'].quantile(0.20)]"
   ]
  },
  {
   "cell_type": "code",
   "execution_count": 46,
   "metadata": {},
   "outputs": [],
   "source": [
    "# GETTING BEST COUNTRY FOR THE VARIETY AND ITS SCORE\n",
    "for variety in df_groupby_variety.index:\n",
    "    df_variety_groupby_country = df[df['variety'] == variety].groupby('country').mean()['points'].sort_values(ascending=False)\n",
    "    df_groupby_variety.loc[variety,'best_country'] = df_variety_groupby_country.index[0]\n",
    "    df_groupby_variety.loc[variety, 'best_country_score'] = df_variety_groupby_country[0]"
   ]
  },
  {
   "cell_type": "code",
   "execution_count": 47,
   "metadata": {},
   "outputs": [],
   "source": [
    "# TOP 5 VARIETIES\n",
    "top5_variety = df_groupby_variety['points'].sort_values(ascending=False)[:5]"
   ]
  },
  {
   "cell_type": "code",
   "execution_count": 48,
   "metadata": {},
   "outputs": [
    {
     "data": {
      "image/png": "[encoded data removed]",
      "text/plain": [
       "<Figure size 1080x504 with 1 Axes>"
      ]
     },
     "metadata": {
      "needs_background": "light"
     },
     "output_type": "display_data"
    }
   ],
   "source": [
    "plt.figure(figsize=(15,7))\n",
    "ax = sns.barplot(y=top5_variety, x=top5_variety.index)\n",
    "ax.set_xlabel('Variety', size = 17)\n",
    "ax.set_ylabel(\"Average points\", size = 17)\n",
    "ax.set_title(\"Top 5 varieties of wine\", size = 17)\n",
    "\n",
    "i=0\n",
    "for p in ax.patches:\n",
    "    variety = top5_variety.index[i]\n",
    "    ax.annotate(str(round(df_groupby_variety.loc[variety, 'points'],2)) + \" - top country \" + df_groupby_variety.loc[variety, 'best_country'], (p.get_x() + p.get_width() / 2., p.get_height()), ha = 'center', va = 'center', xytext = (0, 10), textcoords = 'offset points')\n",
    "    i += 1"
   ]
  },
  {
   "cell_type": "markdown",
   "metadata": {},
   "source": [
    "From the top 5 varieties of wine which have the best scores, Italy scores in position 1 and 2 as the best country for the corresponding variety."
   ]
  },
  {
   "cell_type": "code",
   "execution_count": 49,
   "metadata": {},
   "outputs": [
    {
     "data": {
      "text/plain": [
       "Text(0.5, 1.0, 'Top countries in varieties')"
      ]
     },
     "execution_count": 49,
     "metadata": {},
     "output_type": "execute_result"
    },
    {
     "data": {
      "image/png": "[encoded data removed]",
      "text/plain": [
       "<Figure size 1080x504 with 1 Axes>"
      ]
     },
     "metadata": {
      "needs_background": "light"
     },
     "output_type": "display_data"
    }
   ],
   "source": [
    "# GET TOP SCORER COUNTRY PER VARIETY\n",
    "top_scorer_countries = df_groupby_variety['best_country'].value_counts()[:10]\n",
    "plt.figure(figsize=(15,7))\n",
    "ax = sns.barplot(y=top_scorer_countries, x=top_scorer_countries.index)\n",
    "ax.set_xlabel('Country', size = 17)\n",
    "ax.set_ylabel(\"best top country in varieties count\", size = 17)\n",
    "ax.set_title(\"Top countries in varieties\", size = 17)"
   ]
  },
  {
   "cell_type": "markdown",
   "metadata": {},
   "source": [
    "Knowing that Italy was not considered in the top 5 of countries for best wines, we can deduce that:\n",
    "- either Italy might have specific varieties of grapes which do not exist outside from its country. The country has unique wines.\n",
    "- some of these specific varieties, even if accessible from other countries outside of Italy, might not score good points. Therefore, Italy might have lost some ranks in the ranking of 'points'."
   ]
  },
  {
   "cell_type": "markdown",
   "metadata": {},
   "source": [
    "Back to previous answer given to the \"potential area\" question, we can observer here that Portugal is a top 3 in owning best varieties of grapes (value 10). Regarding Bulgaria:"
   ]
  },
  {
   "cell_type": "code",
   "execution_count": 50,
   "metadata": {},
   "outputs": [
    {
     "name": "stdout",
     "output_type": "stream",
     "text": [
      "Top variety of wine in Bulgaria: 0\n"
     ]
    }
   ],
   "source": [
    "print(\"Top variety of wine in Bulgaria: {}\".format(len(df_groupby_variety[df_groupby_variety['best_country'] == 'Bulgaria'])))"
   ]
  },
  {
   "cell_type": "markdown",
   "metadata": {},
   "source": [
    "Bulgaria didn't develop their best and unique wines yet compared to Portugal. But as they show potential it could be in future. At least, because of their good grades, they have a good earth to plant vineyards. "
   ]
  },
  {
   "cell_type": "code",
   "execution_count": null,
   "metadata": {},
   "outputs": [],
   "source": []
  },
  {
   "cell_type": "code",
   "execution_count": null,
   "metadata": {},
   "outputs": [],
   "source": []
  }
 ],
 "metadata": {
  "kernelspec": {
   "display_name": "Python 3",
   "language": "python",
   "name": "python3"
  },
  "language_info": {
   "codemirror_mode": {
    "name": "ipython",
    "version": 3
   },
   "file_extension": ".py",
   "mimetype": "text/x-python",
   "name": "python",
   "nbconvert_exporter": "python",
   "pygments_lexer": "ipython3",
   "version": "3.7.3"
  }
 },
 "nbformat": 4,
 "nbformat_minor": 2
}
